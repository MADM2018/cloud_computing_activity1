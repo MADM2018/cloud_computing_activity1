{
 "cells": [
  {
   "cell_type": "markdown",
   "metadata": {},
   "source": [
    "Primero voy a listar todos los ficheros de mi Bucket (rcmh_bucket)"
   ]
  },
  {
   "cell_type": "code",
   "execution_count": 22,
   "metadata": {},
   "outputs": [
    {
     "data": {
      "text/html": [
       "<table><tr><th>Name</th><th>Type</th><th>Size</th><th>Updated</th></tr><tr><td>1111.jpg</td><td>image/jpeg</td><td>27072</td><td>2019-01-30 16:33:56.912000+00:00</td></tr><tr><td>222.jpg</td><td>image/jpeg</td><td>27072</td><td>2019-01-30 16:34:12.762000+00:00</td></tr><tr><td>test.csv</td><td>application/octet-stream</td><td>1916164</td><td>2019-02-10 11:41:27.145000+00:00</td></tr></table>"
      ],
      "text/plain": [
       "<IPython.core.display.HTML object>"
      ]
     },
     "execution_count": 22,
     "metadata": {},
     "output_type": "execute_result"
    }
   ],
   "source": [
    "%%gcs list --objects gs://rcmh_bucket"
   ]
  },
  {
   "cell_type": "markdown",
   "metadata": {},
   "source": [
    "Ahora voy a leer el fichero test.csv en un DataFrame de Pandas y usando %gcs"
   ]
  },
  {
   "cell_type": "code",
   "execution_count": 23,
   "metadata": {},
   "outputs": [],
   "source": [
    "\n",
    "import pandas as pd\n",
    "import csv\n",
    "from io import BytesIO\n",
    "\n",
    "%gcs read -o \"gs://rcmh_bucket/test.csv\" -v turismo"
   ]
  },
  {
   "cell_type": "code",
   "execution_count": 24,
   "metadata": {},
   "outputs": [
    {
     "data": {
      "text/html": [
       "<div>\n",
       "<style scoped>\n",
       "    .dataframe tbody tr th:only-of-type {\n",
       "        vertical-align: middle;\n",
       "    }\n",
       "\n",
       "    .dataframe tbody tr th {\n",
       "        vertical-align: top;\n",
       "    }\n",
       "\n",
       "    .dataframe thead th {\n",
       "        text-align: right;\n",
       "    }\n",
       "</style>\n",
       "<table border=\"1\" class=\"dataframe\">\n",
       "  <thead>\n",
       "    <tr style=\"text-align: right;\">\n",
       "      <th></th>\n",
       "      <th>MES</th>\n",
       "      <th>ANYO</th>\n",
       "      <th>IDSEC</th>\n",
       "      <th>ORDEN_VIAJE</th>\n",
       "      <th>ORDEN_REP</th>\n",
       "      <th>CCAADEST</th>\n",
       "      <th>PROVDEST</th>\n",
       "      <th>PAISDEST</th>\n",
       "      <th>DESTESP</th>\n",
       "      <th>MOTIV</th>\n",
       "      <th>...</th>\n",
       "      <th>RELAECON</th>\n",
       "      <th>SITPROF</th>\n",
       "      <th>TIPHOGAR</th>\n",
       "      <th>MH</th>\n",
       "      <th>VIVSEC</th>\n",
       "      <th>INGR_HOG</th>\n",
       "      <th>CORR15_VT</th>\n",
       "      <th>FACTORVI_15MAS</th>\n",
       "      <th>FACTORVI_TOT</th>\n",
       "      <th>FACTORGAS_TOT</th>\n",
       "    </tr>\n",
       "  </thead>\n",
       "  <tbody>\n",
       "    <tr>\n",
       "      <th>0</th>\n",
       "      <td>9</td>\n",
       "      <td>2018</td>\n",
       "      <td>819</td>\n",
       "      <td>1</td>\n",
       "      <td>1</td>\n",
       "      <td>1</td>\n",
       "      <td>4</td>\n",
       "      <td>108</td>\n",
       "      <td>1</td>\n",
       "      <td>2</td>\n",
       "      <td>...</td>\n",
       "      <td>1.0</td>\n",
       "      <td>3.0</td>\n",
       "      <td>4</td>\n",
       "      <td>4</td>\n",
       "      <td>6</td>\n",
       "      <td>3</td>\n",
       "      <td>2,215412</td>\n",
       "      <td>2619,418503</td>\n",
       "      <td>5803,091185</td>\n",
       "      <td>4211,254844</td>\n",
       "    </tr>\n",
       "    <tr>\n",
       "      <th>1</th>\n",
       "      <td>9</td>\n",
       "      <td>2018</td>\n",
       "      <td>11942</td>\n",
       "      <td>2</td>\n",
       "      <td>1</td>\n",
       "      <td>1</td>\n",
       "      <td>14</td>\n",
       "      <td>108</td>\n",
       "      <td>1</td>\n",
       "      <td>7</td>\n",
       "      <td>...</td>\n",
       "      <td>1.0</td>\n",
       "      <td>3.0</td>\n",
       "      <td>4</td>\n",
       "      <td>3</td>\n",
       "      <td>6</td>\n",
       "      <td>4</td>\n",
       "      <td>1</td>\n",
       "      <td>2698,348184</td>\n",
       "      <td>2698,348184</td>\n",
       "      <td>2698,348184</td>\n",
       "    </tr>\n",
       "    <tr>\n",
       "      <th>2</th>\n",
       "      <td>9</td>\n",
       "      <td>2018</td>\n",
       "      <td>4340</td>\n",
       "      <td>1</td>\n",
       "      <td>1</td>\n",
       "      <td>7</td>\n",
       "      <td>24</td>\n",
       "      <td>108</td>\n",
       "      <td>1</td>\n",
       "      <td>8</td>\n",
       "      <td>...</td>\n",
       "      <td>4.0</td>\n",
       "      <td>NaN</td>\n",
       "      <td>4</td>\n",
       "      <td>4</td>\n",
       "      <td>6</td>\n",
       "      <td>3</td>\n",
       "      <td>1</td>\n",
       "      <td>5755,083073</td>\n",
       "      <td>5755,083073</td>\n",
       "      <td>5755,083073</td>\n",
       "    </tr>\n",
       "    <tr>\n",
       "      <th>3</th>\n",
       "      <td>9</td>\n",
       "      <td>2018</td>\n",
       "      <td>5621</td>\n",
       "      <td>2</td>\n",
       "      <td>1</td>\n",
       "      <td>7</td>\n",
       "      <td>37</td>\n",
       "      <td>108</td>\n",
       "      <td>1</td>\n",
       "      <td>7</td>\n",
       "      <td>...</td>\n",
       "      <td>4.0</td>\n",
       "      <td>NaN</td>\n",
       "      <td>4</td>\n",
       "      <td>4</td>\n",
       "      <td>1</td>\n",
       "      <td>5</td>\n",
       "      <td>1,369891</td>\n",
       "      <td>3186,051488</td>\n",
       "      <td>4364,543259</td>\n",
       "      <td>3775,297374</td>\n",
       "    </tr>\n",
       "    <tr>\n",
       "      <th>4</th>\n",
       "      <td>9</td>\n",
       "      <td>2018</td>\n",
       "      <td>1135</td>\n",
       "      <td>1</td>\n",
       "      <td>1</td>\n",
       "      <td>10</td>\n",
       "      <td>46</td>\n",
       "      <td>108</td>\n",
       "      <td>1</td>\n",
       "      <td>18</td>\n",
       "      <td>...</td>\n",
       "      <td>1.0</td>\n",
       "      <td>1.0</td>\n",
       "      <td>3</td>\n",
       "      <td>2</td>\n",
       "      <td>1</td>\n",
       "      <td>2</td>\n",
       "      <td>1</td>\n",
       "      <td>2008,46348</td>\n",
       "      <td>2008,46348</td>\n",
       "      <td>2008,46348</td>\n",
       "    </tr>\n",
       "  </tbody>\n",
       "</table>\n",
       "<p>5 rows × 117 columns</p>\n",
       "</div>"
      ],
      "text/plain": [
       "   MES  ANYO  IDSEC  ORDEN_VIAJE  ORDEN_REP  CCAADEST  PROVDEST  PAISDEST  \\\n",
       "0    9  2018    819            1          1         1         4       108   \n",
       "1    9  2018  11942            2          1         1        14       108   \n",
       "2    9  2018   4340            1          1         7        24       108   \n",
       "3    9  2018   5621            2          1         7        37       108   \n",
       "4    9  2018   1135            1          1        10        46       108   \n",
       "\n",
       "   DESTESP  MOTIV      ...        RELAECON  SITPROF  TIPHOGAR  MH  VIVSEC  \\\n",
       "0        1      2      ...             1.0      3.0         4   4       6   \n",
       "1        1      7      ...             1.0      3.0         4   3       6   \n",
       "2        1      8      ...             4.0      NaN         4   4       6   \n",
       "3        1      7      ...             4.0      NaN         4   4       1   \n",
       "4        1     18      ...             1.0      1.0         3   2       1   \n",
       "\n",
       "   INGR_HOG  CORR15_VT  FACTORVI_15MAS  FACTORVI_TOT  FACTORGAS_TOT  \n",
       "0         3   2,215412     2619,418503   5803,091185    4211,254844  \n",
       "1         4          1     2698,348184   2698,348184    2698,348184  \n",
       "2         3          1     5755,083073   5755,083073    5755,083073  \n",
       "3         5   1,369891     3186,051488   4364,543259    3775,297374  \n",
       "4         2          1      2008,46348    2008,46348     2008,46348  \n",
       "\n",
       "[5 rows x 117 columns]"
      ]
     },
     "execution_count": 24,
     "metadata": {},
     "output_type": "execute_result"
    }
   ],
   "source": [
    "df = pd.read_csv(BytesIO(turismo), sep = ';')\n",
    "df.head()"
   ]
  },
  {
   "cell_type": "markdown",
   "metadata": {},
   "source": [
    "Ahora voy a escribir la variable turismo en otro fichero llamado test2.csv en mi bucket"
   ]
  },
  {
   "cell_type": "code",
   "execution_count": 34,
   "metadata": {},
   "outputs": [],
   "source": [
    "%%gcs write -v turismo -o \"gs://rcmh_bucket/test2.csv\""
   ]
  }
 ],
 "metadata": {
  "kernelspec": {
   "display_name": "Python 2",
   "language": "python",
   "name": "python2"
  },
  "language_info": {
   "codemirror_mode": {
    "name": "ipython",
    "version": 2
   },
   "file_extension": ".py",
   "mimetype": "text/x-python",
   "name": "python",
   "nbconvert_exporter": "python",
   "pygments_lexer": "ipython2",
   "version": "2.7.15"
  }
 },
 "nbformat": 4,
 "nbformat_minor": 2
}
